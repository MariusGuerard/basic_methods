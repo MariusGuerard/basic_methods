{
 "cells": [
  {
   "cell_type": "markdown",
   "metadata": {},
   "source": [
    "# Goal is to define the 95% CI of accuracy for a Classifier"
   ]
  },
  {
   "cell_type": "code",
   "execution_count": 1,
   "metadata": {},
   "outputs": [],
   "source": [
    "import numpy as np\n",
    "from sklearn.utils import resample\n",
    "from sklearn.metrics import accuracy_score"
   ]
  },
  {
   "cell_type": "markdown",
   "metadata": {},
   "source": [
    "## 1. Simulate a vector of accuracy\n",
    "\n",
    "We are creating a simulated true label vector with only label '1', as well as a model that will be correct 60% of the time (it will predict 1, 60% of the time and 0 otherwise). That's to compare with something for which we know the true value, but in practice you can replace the simuModel by your own model."
   ]
  },
  {
   "cell_type": "code",
   "execution_count": 2,
   "metadata": {},
   "outputs": [],
   "source": [
    "class bernoulliModel():\n",
    "    \"\"\"Simply a bernoulli generator with probability 'proba' and 'n' being equal to the vector length to 'fit'.\n",
    "    In practice we don't need X_train, or X_test, but I put it here for ease when using a real model.\n",
    "    One could also use the np.random.binomial function directly to generate the list of accuracy (with accuracy = False)\n",
    "    \"\"\"\n",
    "    def __init__(self, proba):\n",
    "        self.p = proba\n",
    "        \n",
    "    def fit(self, X_train=None, y_train=None):\n",
    "        return None\n",
    "    \n",
    "    def predict(self, X_test):\n",
    "        self.n = len(X_test)\n",
    "        return np.random.binomial(1, self.p, self.n)"
   ]
  },
  {
   "cell_type": "markdown",
   "metadata": {},
   "source": [
    "## 2. Evaluate CI with Bernoulli asymptotatic law?\n",
    "\n",
    "See https://stats.stackexchange.com/questions/4756/confidence-interval-for-bernoulli-sampling\n",
    "\n",
    "$$CI = \\hat{p} \\pm z_{1 - \\alpha / 2} * \\sqrt{\\frac{\\hat{p}(1-\\hat{p})}{n}}$$"
   ]
  },
  {
   "cell_type": "code",
   "execution_count": 3,
   "metadata": {},
   "outputs": [],
   "source": [
    "simu_model = bernoulliModel(0.6)"
   ]
  },
  {
   "cell_type": "code",
   "execution_count": 4,
   "metadata": {},
   "outputs": [],
   "source": [
    "n = 2000\n",
    "y_test = np.ones(n)\n",
    "X_test = np.ones((n, 3))\n",
    "yest_test = simu_model.predict(X_test)"
   ]
  },
  {
   "cell_type": "code",
   "execution_count": 5,
   "metadata": {},
   "outputs": [],
   "source": [
    "phat = accuracy_score(y_test, yest_test)"
   ]
  },
  {
   "cell_type": "code",
   "execution_count": 6,
   "metadata": {},
   "outputs": [
    {
     "data": {
      "text/plain": [
       "0.5895"
      ]
     },
     "execution_count": 6,
     "metadata": {},
     "output_type": "execute_result"
    }
   ],
   "source": [
    "phat"
   ]
  },
  {
   "cell_type": "code",
   "execution_count": 7,
   "metadata": {},
   "outputs": [],
   "source": [
    "SE = np.sqrt(phat * (1 - phat) / n)\n",
    "CI = (phat - 1.96*SE, phat + 1.96*SE)"
   ]
  },
  {
   "cell_type": "code",
   "execution_count": 8,
   "metadata": {},
   "outputs": [
    {
     "data": {
      "text/plain": [
       "(0.567940456595744, 0.6110595434042561)"
      ]
     },
     "execution_count": 8,
     "metadata": {},
     "output_type": "execute_result"
    }
   ],
   "source": [
    "CI"
   ]
  },
  {
   "cell_type": "markdown",
   "metadata": {},
   "source": [
    "## 3. Evaluate CI with bootstrap"
   ]
  },
  {
   "cell_type": "code",
   "execution_count": 9,
   "metadata": {},
   "outputs": [],
   "source": [
    "values = np.ones((2000, 3))"
   ]
  },
  {
   "cell_type": "code",
   "execution_count": 20,
   "metadata": {},
   "outputs": [],
   "source": [
    "def bootstrap_model(data, model, n_iterations=1000, metric=accuracy_score):\n",
    "    ldata = len(data)\n",
    "    n_size = int(ldata * 0.50)\n",
    "    list_index = np.arange(ldata)\n",
    "    # run bootstrap\n",
    "    stats = list()\n",
    "    for i in range(n_iterations):\n",
    "        # prepare train and test sets\n",
    "        train_idx = resample(list_index, n_samples=n_size)\n",
    "        oob_idx = [x for x in list_index if x not in train_idx]\n",
    "        train = data[train_idx]\n",
    "        test = data[oob_idx]\n",
    "        # fit model\n",
    "        model.fit(train[:,:-1], train[:,-1])\n",
    "        # evaluate model\n",
    "        predictions = model.predict(test[:,:-1])\n",
    "        score = accuracy_score(test[:,-1], predictions)\n",
    "        stats.append(score)\n",
    "    return stats"
   ]
  },
  {
   "cell_type": "code",
   "execution_count": 11,
   "metadata": {},
   "outputs": [],
   "source": [
    "stats = bootstrap_model(values, bernoulliModel(0.6))"
   ]
  },
  {
   "cell_type": "markdown",
   "metadata": {},
   "source": [
    "### 3.1 Using the percentiles"
   ]
  },
  {
   "cell_type": "code",
   "execution_count": 12,
   "metadata": {},
   "outputs": [],
   "source": [
    "# confidence intervals\n",
    "alpha = 0.95\n",
    "p = ((1.0-alpha)/2.0) * 100\n",
    "lower = max(0.0, np.percentile(stats, p))\n",
    "p = (alpha+((1.0-alpha)/2.0)) * 100\n",
    "upper = min(1.0, np.percentile(stats, p))"
   ]
  },
  {
   "cell_type": "code",
   "execution_count": 13,
   "metadata": {},
   "outputs": [],
   "source": [
    "CI = (lower, upper)"
   ]
  },
  {
   "cell_type": "code",
   "execution_count": 14,
   "metadata": {},
   "outputs": [
    {
     "data": {
      "text/plain": [
       "(0.5728314238952537, 0.6263512992020305)"
      ]
     },
     "execution_count": 14,
     "metadata": {},
     "output_type": "execute_result"
    }
   ],
   "source": [
    "CI"
   ]
  },
  {
   "cell_type": "markdown",
   "metadata": {},
   "source": [
    "### 3.2 using the SE"
   ]
  },
  {
   "cell_type": "code",
   "execution_count": 15,
   "metadata": {},
   "outputs": [],
   "source": [
    "phat = np.mean(stats)"
   ]
  },
  {
   "cell_type": "code",
   "execution_count": 16,
   "metadata": {},
   "outputs": [
    {
     "data": {
      "text/plain": [
       "0.5997481703025431"
      ]
     },
     "execution_count": 16,
     "metadata": {},
     "output_type": "execute_result"
    }
   ],
   "source": [
    "phat"
   ]
  },
  {
   "cell_type": "code",
   "execution_count": 17,
   "metadata": {},
   "outputs": [],
   "source": [
    "SE = np.std(stats, ddof=1) \n",
    "CI = (phat - 1.96*SE, phat + 1.96*SE)"
   ]
  },
  {
   "cell_type": "code",
   "execution_count": 18,
   "metadata": {},
   "outputs": [
    {
     "data": {
      "text/plain": [
       "0.013973209970655919"
      ]
     },
     "execution_count": 18,
     "metadata": {},
     "output_type": "execute_result"
    }
   ],
   "source": [
    "SE"
   ]
  },
  {
   "cell_type": "code",
   "execution_count": 19,
   "metadata": {},
   "outputs": [
    {
     "data": {
      "text/plain": [
       "(0.5723606787600575, 0.6271356618450288)"
      ]
     },
     "execution_count": 19,
     "metadata": {},
     "output_type": "execute_result"
    }
   ],
   "source": [
    "CI"
   ]
  }
 ],
 "metadata": {
  "kernelspec": {
   "display_name": "Python 3",
   "language": "python",
   "name": "python3"
  },
  "language_info": {
   "codemirror_mode": {
    "name": "ipython",
    "version": 3
   },
   "file_extension": ".py",
   "mimetype": "text/x-python",
   "name": "python",
   "nbconvert_exporter": "python",
   "pygments_lexer": "ipython3",
   "version": "3.7.2"
  }
 },
 "nbformat": 4,
 "nbformat_minor": 4
}
